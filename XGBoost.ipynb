{
  "nbformat": 4,
  "nbformat_minor": 0,
  "metadata": {
    "colab": {
      "provenance": [],
      "authorship_tag": "ABX9TyPXD0C9UQtaouYUOjY+U9eT",
      "include_colab_link": true
    },
    "kernelspec": {
      "name": "python3",
      "display_name": "Python 3"
    },
    "language_info": {
      "name": "python"
    }
  },
  "cells": [
    {
      "cell_type": "markdown",
      "metadata": {
        "id": "view-in-github",
        "colab_type": "text"
      },
      "source": [
        "<a href=\"https://colab.research.google.com/github/samiha-mahin/XGBoost-model-deploy-with-flask/blob/main/XGBoost.ipynb\" target=\"_parent\"><img src=\"https://colab.research.google.com/assets/colab-badge.svg\" alt=\"Open In Colab\"/></a>"
      ]
    },
    {
      "cell_type": "code",
      "execution_count": null,
      "metadata": {
        "colab": {
          "base_uri": "https://localhost:8080/"
        },
        "id": "gO156NFbZCOz",
        "outputId": "df4f9f5e-9baf-4ad4-af35-356d9b7f3155",
        "collapsed": true
      },
      "outputs": [
        {
          "output_type": "stream",
          "name": "stdout",
          "text": [
            "Dataset shape: (1296, 10)\n",
            "First 5 rows:\n",
            "          ph  Hardness    Solids  Chloramines   Sulfate  Conductivity  \\\n",
            "0 -0.130069  0.429896 -0.880059     0.076701 -0.466388      1.784631   \n",
            "1 -0.025474  0.690656  1.030045    -0.221090 -1.928916     -0.182325   \n",
            "2  0.455775  0.708423  1.003237    -0.209494 -0.014799     -0.262002   \n",
            "3  0.575991 -0.700001 -0.976301    -0.110170  0.640864      0.558874   \n",
            "4 -1.467839 -0.149123  0.160967    -0.167227 -0.014799     -1.358502   \n",
            "\n",
            "   Organic_carbon  Trihalomethanes  Turbidity  Potability  \n",
            "0        0.505906         0.266900   0.173667           0  \n",
            "1        0.581668         0.281920  -2.540388           0  \n",
            "2       -0.461412         0.251424   1.457716           0  \n",
            "3        0.662968         0.101032  -0.759307           0  \n",
            "4        1.208343        -1.457058  -0.453147           0  \n",
            "Class distribution:\n",
            " Potability\n",
            "1    780\n",
            "0    516\n",
            "Name: count, dtype: int64\n",
            "Fitting 3 folds for each of 243 candidates, totalling 729 fits\n",
            "Best Hyperparameters: {'colsample_bytree': 1.0, 'learning_rate': 0.1, 'max_depth': 5, 'n_estimators': 300, 'subsample': 0.9}\n",
            "Best Hyperparameters: {'colsample_bytree': 1.0, 'learning_rate': 0.1, 'max_depth': 5, 'n_estimators': 300, 'subsample': 0.9}\n",
            "Best Accuracy (Cross-Validation): 0.7915\n",
            "XGBoost Accuracy on the test set (Best Model): 0.8423\n",
            "XGBoost Accuracy on the test set (Best Model): 0.8423\n"
          ]
        }
      ],
      "source": [
        "import pandas as pd\n",
        "from sklearn.model_selection import train_test_split, GridSearchCV\n",
        "from sklearn.preprocessing import StandardScaler\n",
        "from xgboost import XGBClassifier\n",
        "from sklearn.metrics import accuracy_score\n",
        "\n",
        "\n",
        "df = pd.read_csv('resampled_SMOTEENN.csv')\n",
        "\n",
        "\n",
        "print(\"Dataset shape:\", df.shape)\n",
        "print(\"First 5 rows:\\n\", df.head())\n",
        "print(\"Class distribution:\\n\", df.iloc[:, -1].value_counts())\n",
        "X = df.iloc[:, :-1]  # assuming the last column is the target\n",
        "y = df.iloc[:, -1]\n",
        "\n",
        "\n",
        "scaler = StandardScaler()\n",
        "X_scaled = scaler.fit_transform(X)\n",
        "\n",
        "\n",
        "X_train, X_test, y_train, y_test = train_test_split(\n",
        "    X_scaled, y, test_size=0.2, random_state=42, stratify=y\n",
        ")\n",
        "\n",
        "\n",
        "param_grid = {\n",
        "    'n_estimators': [100, 200, 300],\n",
        "    'learning_rate': [0.01, 0.1, 0.2],\n",
        "    'max_depth': [3, 4, 5],\n",
        "    'subsample': [0.8, 0.9, 1.0],\n",
        "    'colsample_bytree': [0.8, 0.9, 1.0]\n",
        "}\n",
        "\n",
        "\n",
        "xgb_classifier = XGBClassifier(random_state=42)\n",
        "\n",
        "# Perform GridSearchCV for hyperparameter tuning\n",
        "grid_search = GridSearchCV(estimator=xgb_classifier,\n",
        "                           param_grid=param_grid,\n",
        "                           scoring='accuracy',\n",
        "                           cv=3,  # You can adjust the number of cross-validation folds\n",
        "                           verbose=1,\n",
        "                           n_jobs=-1)  # Use all available cores\n",
        "\n",
        "grid_search.fit(X_train, y_train)\n",
        "best_params = grid_search.best_params_\n",
        "best_score = grid_search.best_score_\n",
        "print(f\"Best Hyperparameters: {best_params}\")\n",
        "best_params = grid_search.best_params_\n",
        "best_score = grid_search.best_score_\n",
        "print(f\"Best Hyperparameters: {best_params}\")\n",
        "print(f\"Best Accuracy (Cross-Validation): {best_score:.4f}\")\n",
        "\n",
        "#Best Hyperparameters: {'colsample_bytree': 1.0, 'learning_rate': 0.1, 'max_depth': 5, 'n_estimators': 300, 'subsample': 0.9}\n",
        "#Best Accuracy (Cross-Validation): 0.7915\n",
        "\n",
        "best_xgb_classifier = grid_search.best_estimator_\n",
        "y_pred = best_xgb_classifier.predict(X_test)\n",
        "accuracy = accuracy_score(y_test, y_pred)\n",
        "print(f\"XGBoost Accuracy on the test set (Best Model): {accuracy:.4f}\")\n",
        "best_xgb_classifier = grid_search.best_estimator_\n",
        "y_pred = best_xgb_classifier.predict(X_test)\n",
        "accuracy = accuracy_score(y_test, y_pred)\n",
        "print(f\"XGBoost Accuracy on the test set (Best Model): {accuracy:.4f}\")"
      ]
    },
    {
      "cell_type": "code",
      "source": [
        "import joblib\n",
        "\n",
        "# Save the model\n",
        "joblib.dump(best_xgb_classifier, 'xgb_model.pkl')\n",
        "\n",
        "# Save the scaler too\n",
        "joblib.dump(scaler, 'scaler.pkl')\n"
      ],
      "metadata": {
        "colab": {
          "base_uri": "https://localhost:8080/"
        },
        "id": "lSQnw7cjZY08",
        "outputId": "5f58f9a4-53f4-4ded-e4ab-0d7c2624e685",
        "collapsed": true
      },
      "execution_count": null,
      "outputs": [
        {
          "output_type": "execute_result",
          "data": {
            "text/plain": [
              "['scaler.pkl']"
            ]
          },
          "metadata": {},
          "execution_count": 2
        }
      ]
    }
  ]
}